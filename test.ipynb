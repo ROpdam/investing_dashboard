{
 "metadata": {
  "language_info": {
   "codemirror_mode": {
    "name": "ipython",
    "version": 3
   },
   "file_extension": ".py",
   "mimetype": "text/x-python",
   "name": "python",
   "nbconvert_exporter": "python",
   "pygments_lexer": "ipython3",
   "version": "3.8.5-final"
  },
  "orig_nbformat": 2,
  "kernelspec": {
   "name": "python3",
   "display_name": "Python 3.8.5 64-bit ('financials': conda)",
   "metadata": {
    "interpreter": {
     "hash": "561dd98e4afe6b40ca4412ff760fbbf04ff9a789b1706dedfbb78e327b0ad8cc"
    }
   }
  }
 },
 "nbformat": 4,
 "nbformat_minor": 2,
 "cells": [
  {
   "cell_type": "code",
   "execution_count": 4,
   "metadata": {
    "tags": []
   },
   "outputs": [],
   "source": [
    "import pandas as pd\n",
    "import investpy\n",
    "from forex_python.converter import CurrencyRates\n",
    "import datetime\n",
    "import plotly.express as px\n",
    "\n",
    "def total_cost_eur(x):\n",
    "    if x['currency'] != 'EUR':\n",
    "        x['total_cost_eur'] = x['number_of_stocks'] * x['cost_per_stock_eur']\n",
    "    else: \n",
    "        x['total_cost_eur'] = x['number_of_stocks'] * x['cost_per_stock_eur']\n",
    "    return x\n",
    "\n",
    "def shrink_pf(pf):\n",
    "    pf = pf.sort_values('date')\n",
    "    originals = pf[~pf.ticker.duplicated()].set_index('ticker')\n",
    "    cols_to_add = ['number_of_stocks', 'total_cost_eur', 'transaction_costs']\n",
    "\n",
    "    for i, row in pf[pf.ticker.duplicated()].iterrows():\n",
    "        tick = row['ticker']\n",
    "        originals.loc[tick, cols_to_add] = originals.loc[tick, cols_to_add] + row[cols_to_add]\n",
    "    \n",
    "    return originals.reset_index()\n",
    "\n",
    "def exclude_weekends():\n",
    "    today = datetime.datetime.now()\n",
    "    if today.weekday() == 6:\n",
    "        return today - datetime.timedelta(days=2)\n",
    "    if today.weekday() == 0:\n",
    "        return today - datetime.timedelta(days=3)\n",
    "    return today - datetime.timedelta(days=1)\n",
    "\n",
    "def get_hist_prices(pf, days_back=0):\n",
    "    print('Retrieving prices...')\n",
    "\n",
    "    # if days_back == 0:\n",
    "    #     from_date = pf['date'].min().strftime('%d/%m/%Y')\n",
    "    # elif days_back > len(_prices):\n",
    "    #     print(\"More back than existing prices\")\n",
    "    #     from_date = (exclude_weekends() - datetime.timedelta(days=days_back)).strftime('%d/%m/%Y')\n",
    "    # else: \n",
    "    #     print(\"prices already exist\")\n",
    "    #     return _prices.iloc[-days_back:]\n",
    "        # from_date = _prices.iloc[-1].Date.strftime('%d/%m/%Y')\n",
    "\n",
    "    to_date = exclude_weekends().date().strftime('%d/%m/%Y')  #(exclude_weekends() - datetime.timedelta(days=1))\n",
    "    hist_prices = []\n",
    "    for i, row in pf.iterrows():\n",
    "        search_results = investpy.search_quotes(text=row['ticker'], products=[row['product']], countries=[row['country']])\n",
    "        from_date = row['date'].strftime('%d/%m/%Y')\n",
    "        for sr in search_results[:1]:\n",
    "            hist_p = sr.retrieve_historical_data(from_date=from_date, to_date=to_date)['Close'].to_frame().rename({'Close':row['ticker']}, axis=1).interpolate()\n",
    "            hist_prices.append(hist_p)\n",
    "    \n",
    "    return pd.concat(hist_prices, axis=1)"
   ]
  },
  {
   "cell_type": "code",
   "execution_count": 63,
   "metadata": {},
   "outputs": [
    {
     "output_type": "stream",
     "name": "stdout",
     "text": [
      "Retrieving prices...\n"
     ]
    }
   ],
   "source": [
    "path = './data/'\n",
    "portfolio = pd.read_excel(path + 'investing_source.xlsx', sheet_name='Stocks')\n",
    "portfolio['date'] = portfolio['date'].dt.date\n",
    "portfolio = portfolio.apply(total_cost_eur, axis=1).sort_values('total_cost_eur', ascending=False)\n",
    "\n",
    "pf_no_dupl = shrink_pf(portfolio)\n",
    "_prices = get_hist_prices(pf_no_dupl)\n"
   ]
  },
  {
   "cell_type": "code",
   "execution_count": 5,
   "metadata": {},
   "outputs": [],
   "source": [
    "l = [np.nan, 1, 2, 3, 4]"
   ]
  },
  {
   "cell_type": "code",
   "execution_count": 6,
   "metadata": {},
   "outputs": [],
   "source": [
    "df = pd.DataFrame(l)"
   ]
  },
  {
   "cell_type": "code",
   "execution_count": 43,
   "metadata": {},
   "outputs": [
    {
     "output_type": "execute_result",
     "data": {
      "text/plain": [
       "1"
      ]
     },
     "metadata": {},
     "execution_count": 43
    }
   ],
   "source": [
    "df.iloc[0:].first_valid_index()"
   ]
  },
  {
   "cell_type": "code",
   "execution_count": 57,
   "metadata": {},
   "outputs": [
    {
     "output_type": "execute_result",
     "data": {
      "text/plain": [
       "2    10\n",
       "3    10\n",
       "Name: number_of_stocks, dtype: int64"
      ]
     },
     "metadata": {},
     "execution_count": 57
    }
   ],
   "source": [
    "portfolio[portfolio.ticker == \"VWRL\"]['number_of_stocks']"
   ]
  },
  {
   "cell_type": "code",
   "execution_count": 82,
   "metadata": {},
   "outputs": [
    {
     "output_type": "execute_result",
     "data": {
      "text/plain": [
       "array([False, False, False, False, False, False, False, False, False,\n",
       "       False, False, False, False, False, False, False, False, False,\n",
       "       False, False, False, False, False, False, False, False, False,\n",
       "       False, False, False, False, False, False, False, False, False,\n",
       "       False, False, False, False, False, False, False, False, False,\n",
       "       False, False, False, False,  True,  True,  True,  True,  True,\n",
       "        True,  True,  True,  True,  True,  True,  True,  True,  True,\n",
       "        True,  True,  True,  True,  True,  True,  True,  True,  True,\n",
       "        True,  True,  True,  True,  True,  True,  True,  True,  True,\n",
       "        True,  True,  True,  True,  True,  True,  True,  True,  True,\n",
       "        True,  True,  True,  True,  True,  True,  True,  True,  True,\n",
       "        True,  True,  True,  True,  True,  True,  True,  True,  True,\n",
       "        True,  True,  True,  True,  True,  True,  True,  True,  True,\n",
       "        True,  True,  True,  True,  True])"
      ]
     },
     "metadata": {},
     "execution_count": 82
    }
   ],
   "source": [
    "_prices.index.date >= portfolio['date'].iloc[0]"
   ]
  },
  {
   "cell_type": "code",
   "execution_count": 98,
   "metadata": {},
   "outputs": [
    {
     "output_type": "execute_result",
     "data": {
      "text/plain": [
       "              NVDA   BFIT   VWRL    total\n",
       "Date                                     \n",
       "2020-07-06  393.57   0.00   0.00      NaN\n",
       "2020-07-07  394.87   0.00   0.00      NaN\n",
       "2020-07-08  408.64   0.00   0.00      NaN\n",
       "2020-07-09  420.36   0.00   0.00      NaN\n",
       "2020-07-10  419.17   0.00   0.00      NaN\n",
       "...            ...    ...    ...      ...\n",
       "2020-12-16  529.70  30.75  86.32  2717.35\n",
       "2020-12-17  533.65  30.89  86.04  2717.80\n",
       "2020-12-18  530.88  30.89  85.86  2711.43\n",
       "2020-12-21  533.29  30.02  84.83  2680.19\n",
       "2020-12-22  531.13  30.45  85.53  2698.48\n",
       "\n",
       "[122 rows x 4 columns]"
      ],
      "text/html": "<div>\n<style scoped>\n    .dataframe tbody tr th:only-of-type {\n        vertical-align: middle;\n    }\n\n    .dataframe tbody tr th {\n        vertical-align: top;\n    }\n\n    .dataframe thead th {\n        text-align: right;\n    }\n</style>\n<table border=\"1\" class=\"dataframe\">\n  <thead>\n    <tr style=\"text-align: right;\">\n      <th></th>\n      <th>NVDA</th>\n      <th>BFIT</th>\n      <th>VWRL</th>\n      <th>total</th>\n    </tr>\n    <tr>\n      <th>Date</th>\n      <th></th>\n      <th></th>\n      <th></th>\n      <th></th>\n    </tr>\n  </thead>\n  <tbody>\n    <tr>\n      <th>2020-07-06</th>\n      <td>393.57</td>\n      <td>0.00</td>\n      <td>0.00</td>\n      <td>NaN</td>\n    </tr>\n    <tr>\n      <th>2020-07-07</th>\n      <td>394.87</td>\n      <td>0.00</td>\n      <td>0.00</td>\n      <td>NaN</td>\n    </tr>\n    <tr>\n      <th>2020-07-08</th>\n      <td>408.64</td>\n      <td>0.00</td>\n      <td>0.00</td>\n      <td>NaN</td>\n    </tr>\n    <tr>\n      <th>2020-07-09</th>\n      <td>420.36</td>\n      <td>0.00</td>\n      <td>0.00</td>\n      <td>NaN</td>\n    </tr>\n    <tr>\n      <th>2020-07-10</th>\n      <td>419.17</td>\n      <td>0.00</td>\n      <td>0.00</td>\n      <td>NaN</td>\n    </tr>\n    <tr>\n      <th>...</th>\n      <td>...</td>\n      <td>...</td>\n      <td>...</td>\n      <td>...</td>\n    </tr>\n    <tr>\n      <th>2020-12-16</th>\n      <td>529.70</td>\n      <td>30.75</td>\n      <td>86.32</td>\n      <td>2717.35</td>\n    </tr>\n    <tr>\n      <th>2020-12-17</th>\n      <td>533.65</td>\n      <td>30.89</td>\n      <td>86.04</td>\n      <td>2717.80</td>\n    </tr>\n    <tr>\n      <th>2020-12-18</th>\n      <td>530.88</td>\n      <td>30.89</td>\n      <td>85.86</td>\n      <td>2711.43</td>\n    </tr>\n    <tr>\n      <th>2020-12-21</th>\n      <td>533.29</td>\n      <td>30.02</td>\n      <td>84.83</td>\n      <td>2680.19</td>\n    </tr>\n    <tr>\n      <th>2020-12-22</th>\n      <td>531.13</td>\n      <td>30.45</td>\n      <td>85.53</td>\n      <td>2698.48</td>\n    </tr>\n  </tbody>\n</table>\n<p>122 rows × 4 columns</p>\n</div>"
     },
     "metadata": {},
     "execution_count": 98
    }
   ],
   "source": [
    "_prices['total'] = 0\n",
    "_prices = _prices.fillna(0)\n",
    "for i, row in portfolio.iterrows():\n",
    "    _prices['total'] += _prices[row.ticker][_prices.index.date > row.date].mul(row.number_of_stocks)\n",
    "    # print(_prices[row.ticker][_prices.index.date > row.date].mul(row.number_of_stocks))\n",
    "    \n",
    "_prices"
   ]
  },
  {
   "cell_type": "code",
   "execution_count": 84,
   "metadata": {},
   "outputs": [
    {
     "output_type": "execute_result",
     "data": {
      "text/plain": [
       "              NVDA   BFIT   VWRL  total\n",
       "Date                                   \n",
       "2020-09-14  514.89  24.16  79.88      0\n",
       "2020-09-15  519.64  24.05  80.56      0\n",
       "2020-09-16  500.58  23.63  80.86      0\n",
       "2020-09-17  498.54  23.36  79.90      0\n",
       "2020-09-18  487.57  22.95  79.21      0\n",
       "...            ...    ...    ...    ...\n",
       "2020-12-16  529.70  30.75  86.32      0\n",
       "2020-12-17  533.65  30.89  86.04      0\n",
       "2020-12-18  530.88  30.89  85.86      0\n",
       "2020-12-21  533.29  30.02  84.83      0\n",
       "2020-12-22  531.13  30.45  85.53      0\n",
       "\n",
       "[72 rows x 4 columns]"
      ],
      "text/html": "<div>\n<style scoped>\n    .dataframe tbody tr th:only-of-type {\n        vertical-align: middle;\n    }\n\n    .dataframe tbody tr th {\n        vertical-align: top;\n    }\n\n    .dataframe thead th {\n        text-align: right;\n    }\n</style>\n<table border=\"1\" class=\"dataframe\">\n  <thead>\n    <tr style=\"text-align: right;\">\n      <th></th>\n      <th>NVDA</th>\n      <th>BFIT</th>\n      <th>VWRL</th>\n      <th>total</th>\n    </tr>\n    <tr>\n      <th>Date</th>\n      <th></th>\n      <th></th>\n      <th></th>\n      <th></th>\n    </tr>\n  </thead>\n  <tbody>\n    <tr>\n      <th>2020-09-14</th>\n      <td>514.89</td>\n      <td>24.16</td>\n      <td>79.88</td>\n      <td>0</td>\n    </tr>\n    <tr>\n      <th>2020-09-15</th>\n      <td>519.64</td>\n      <td>24.05</td>\n      <td>80.56</td>\n      <td>0</td>\n    </tr>\n    <tr>\n      <th>2020-09-16</th>\n      <td>500.58</td>\n      <td>23.63</td>\n      <td>80.86</td>\n      <td>0</td>\n    </tr>\n    <tr>\n      <th>2020-09-17</th>\n      <td>498.54</td>\n      <td>23.36</td>\n      <td>79.90</td>\n      <td>0</td>\n    </tr>\n    <tr>\n      <th>2020-09-18</th>\n      <td>487.57</td>\n      <td>22.95</td>\n      <td>79.21</td>\n      <td>0</td>\n    </tr>\n    <tr>\n      <th>...</th>\n      <td>...</td>\n      <td>...</td>\n      <td>...</td>\n      <td>...</td>\n    </tr>\n    <tr>\n      <th>2020-12-16</th>\n      <td>529.70</td>\n      <td>30.75</td>\n      <td>86.32</td>\n      <td>0</td>\n    </tr>\n    <tr>\n      <th>2020-12-17</th>\n      <td>533.65</td>\n      <td>30.89</td>\n      <td>86.04</td>\n      <td>0</td>\n    </tr>\n    <tr>\n      <th>2020-12-18</th>\n      <td>530.88</td>\n      <td>30.89</td>\n      <td>85.86</td>\n      <td>0</td>\n    </tr>\n    <tr>\n      <th>2020-12-21</th>\n      <td>533.29</td>\n      <td>30.02</td>\n      <td>84.83</td>\n      <td>0</td>\n    </tr>\n    <tr>\n      <th>2020-12-22</th>\n      <td>531.13</td>\n      <td>30.45</td>\n      <td>85.53</td>\n      <td>0</td>\n    </tr>\n  </tbody>\n</table>\n<p>72 rows × 4 columns</p>\n</div>"
     },
     "metadata": {},
     "execution_count": 84
    }
   ],
   "source": [
    "_prices[_prices.index.date > row.date]"
   ]
  },
  {
   "cell_type": "code",
   "execution_count": 56,
   "metadata": {},
   "outputs": [
    {
     "output_type": "execute_result",
     "data": {
      "text/plain": [
       "            NVDA  BFIT  VWRL\n",
       "Date                        \n",
       "2020-07-06   NaN   NaN   NaN\n",
       "2020-07-07   NaN   NaN   NaN\n",
       "2020-07-08   NaN   NaN   NaN\n",
       "2020-07-09   NaN   NaN   NaN\n",
       "2020-07-10   NaN   NaN   NaN\n",
       "...          ...   ...   ...\n",
       "2020-12-16   NaN   NaN   NaN\n",
       "2020-12-17   NaN   NaN   NaN\n",
       "2020-12-18   NaN   NaN   NaN\n",
       "2020-12-21   NaN   NaN   NaN\n",
       "2020-12-22   NaN   NaN   NaN\n",
       "\n",
       "[122 rows x 3 columns]"
      ],
      "text/html": "<div>\n<style scoped>\n    .dataframe tbody tr th:only-of-type {\n        vertical-align: middle;\n    }\n\n    .dataframe tbody tr th {\n        vertical-align: top;\n    }\n\n    .dataframe thead th {\n        text-align: right;\n    }\n</style>\n<table border=\"1\" class=\"dataframe\">\n  <thead>\n    <tr style=\"text-align: right;\">\n      <th></th>\n      <th>NVDA</th>\n      <th>BFIT</th>\n      <th>VWRL</th>\n    </tr>\n    <tr>\n      <th>Date</th>\n      <th></th>\n      <th></th>\n      <th></th>\n    </tr>\n  </thead>\n  <tbody>\n    <tr>\n      <th>2020-07-06</th>\n      <td>NaN</td>\n      <td>NaN</td>\n      <td>NaN</td>\n    </tr>\n    <tr>\n      <th>2020-07-07</th>\n      <td>NaN</td>\n      <td>NaN</td>\n      <td>NaN</td>\n    </tr>\n    <tr>\n      <th>2020-07-08</th>\n      <td>NaN</td>\n      <td>NaN</td>\n      <td>NaN</td>\n    </tr>\n    <tr>\n      <th>2020-07-09</th>\n      <td>NaN</td>\n      <td>NaN</td>\n      <td>NaN</td>\n    </tr>\n    <tr>\n      <th>2020-07-10</th>\n      <td>NaN</td>\n      <td>NaN</td>\n      <td>NaN</td>\n    </tr>\n    <tr>\n      <th>...</th>\n      <td>...</td>\n      <td>...</td>\n      <td>...</td>\n    </tr>\n    <tr>\n      <th>2020-12-16</th>\n      <td>NaN</td>\n      <td>NaN</td>\n      <td>NaN</td>\n    </tr>\n    <tr>\n      <th>2020-12-17</th>\n      <td>NaN</td>\n      <td>NaN</td>\n      <td>NaN</td>\n    </tr>\n    <tr>\n      <th>2020-12-18</th>\n      <td>NaN</td>\n      <td>NaN</td>\n      <td>NaN</td>\n    </tr>\n    <tr>\n      <th>2020-12-21</th>\n      <td>NaN</td>\n      <td>NaN</td>\n      <td>NaN</td>\n    </tr>\n    <tr>\n      <th>2020-12-22</th>\n      <td>NaN</td>\n      <td>NaN</td>\n      <td>NaN</td>\n    </tr>\n  </tbody>\n</table>\n<p>122 rows × 3 columns</p>\n</div>"
     },
     "metadata": {},
     "execution_count": 56
    }
   ],
   "source": [
    "_prices.apply(lambda x: x.mul(portfolio[portfolio.ticker == x.name]['number_of_stocks']), axis=1)"
   ]
  },
  {
   "cell_type": "code",
   "execution_count": 46,
   "metadata": {},
   "outputs": [
    {
     "output_type": "execute_result",
     "data": {
      "text/plain": [
       "         date           company ticker  number_of_stocks  cost_per_stock  \\\n",
       "2  2020-09-11  Vanguard FTSE AW   VWRL                10            79.0   \n",
       "3  2020-10-28  Vanguard FTSE AW   VWRL                10            78.7   \n",
       "1  2020-08-27         Basic Fit   BFIT                15            23.6   \n",
       "0  2020-07-06            NVIDIA   NVDA                 1           391.0   \n",
       "\n",
       "   cost_per_stock_eur currency  transaction_costs    color product  \\\n",
       "2               79.00      EUR               0.00  #4178B9    etfs   \n",
       "3               78.70      EUR               0.00  #4178B9    etfs   \n",
       "1               23.60      EUR               2.11  #ff9900  stocks   \n",
       "0              343.32      USD               0.50  #03883B  stocks   \n",
       "\n",
       "         country sector  total_cost_eur  \n",
       "2    Netherlands    NaN          790.00  \n",
       "3    Netherlands    NaN          787.00  \n",
       "1    Netherlands    NaN          354.00  \n",
       "0  United States   Tech          343.32  "
      ],
      "text/html": "<div>\n<style scoped>\n    .dataframe tbody tr th:only-of-type {\n        vertical-align: middle;\n    }\n\n    .dataframe tbody tr th {\n        vertical-align: top;\n    }\n\n    .dataframe thead th {\n        text-align: right;\n    }\n</style>\n<table border=\"1\" class=\"dataframe\">\n  <thead>\n    <tr style=\"text-align: right;\">\n      <th></th>\n      <th>date</th>\n      <th>company</th>\n      <th>ticker</th>\n      <th>number_of_stocks</th>\n      <th>cost_per_stock</th>\n      <th>cost_per_stock_eur</th>\n      <th>currency</th>\n      <th>transaction_costs</th>\n      <th>color</th>\n      <th>product</th>\n      <th>country</th>\n      <th>sector</th>\n      <th>total_cost_eur</th>\n    </tr>\n  </thead>\n  <tbody>\n    <tr>\n      <th>2</th>\n      <td>2020-09-11</td>\n      <td>Vanguard FTSE AW</td>\n      <td>VWRL</td>\n      <td>10</td>\n      <td>79.0</td>\n      <td>79.00</td>\n      <td>EUR</td>\n      <td>0.00</td>\n      <td>#4178B9</td>\n      <td>etfs</td>\n      <td>Netherlands</td>\n      <td>NaN</td>\n      <td>790.00</td>\n    </tr>\n    <tr>\n      <th>3</th>\n      <td>2020-10-28</td>\n      <td>Vanguard FTSE AW</td>\n      <td>VWRL</td>\n      <td>10</td>\n      <td>78.7</td>\n      <td>78.70</td>\n      <td>EUR</td>\n      <td>0.00</td>\n      <td>#4178B9</td>\n      <td>etfs</td>\n      <td>Netherlands</td>\n      <td>NaN</td>\n      <td>787.00</td>\n    </tr>\n    <tr>\n      <th>1</th>\n      <td>2020-08-27</td>\n      <td>Basic Fit</td>\n      <td>BFIT</td>\n      <td>15</td>\n      <td>23.6</td>\n      <td>23.60</td>\n      <td>EUR</td>\n      <td>2.11</td>\n      <td>#ff9900</td>\n      <td>stocks</td>\n      <td>Netherlands</td>\n      <td>NaN</td>\n      <td>354.00</td>\n    </tr>\n    <tr>\n      <th>0</th>\n      <td>2020-07-06</td>\n      <td>NVIDIA</td>\n      <td>NVDA</td>\n      <td>1</td>\n      <td>391.0</td>\n      <td>343.32</td>\n      <td>USD</td>\n      <td>0.50</td>\n      <td>#03883B</td>\n      <td>stocks</td>\n      <td>United States</td>\n      <td>Tech</td>\n      <td>343.32</td>\n    </tr>\n  </tbody>\n</table>\n</div>"
     },
     "metadata": {},
     "execution_count": 46
    }
   ],
   "source": [
    "portfolio"
   ]
  },
  {
   "cell_type": "code",
   "execution_count": 45,
   "metadata": {},
   "outputs": [
    {
     "output_type": "execute_result",
     "data": {
      "text/plain": [
       "              NVDA   BFIT   VWRL\n",
       "Date                            \n",
       "2020-07-06  393.57    NaN    NaN\n",
       "2020-07-07  394.87    NaN    NaN\n",
       "2020-07-08  408.64    NaN    NaN\n",
       "2020-07-09  420.36    NaN    NaN\n",
       "2020-07-10  419.17    NaN    NaN\n",
       "...            ...    ...    ...\n",
       "2020-12-16  529.70  30.75  86.32\n",
       "2020-12-17  533.65  30.89  86.04\n",
       "2020-12-18  530.88  30.89  85.86\n",
       "2020-12-21  533.29  30.02  84.83\n",
       "2020-12-22  531.13  30.45  85.53\n",
       "\n",
       "[122 rows x 3 columns]"
      ],
      "text/html": "<div>\n<style scoped>\n    .dataframe tbody tr th:only-of-type {\n        vertical-align: middle;\n    }\n\n    .dataframe tbody tr th {\n        vertical-align: top;\n    }\n\n    .dataframe thead th {\n        text-align: right;\n    }\n</style>\n<table border=\"1\" class=\"dataframe\">\n  <thead>\n    <tr style=\"text-align: right;\">\n      <th></th>\n      <th>NVDA</th>\n      <th>BFIT</th>\n      <th>VWRL</th>\n    </tr>\n    <tr>\n      <th>Date</th>\n      <th></th>\n      <th></th>\n      <th></th>\n    </tr>\n  </thead>\n  <tbody>\n    <tr>\n      <th>2020-07-06</th>\n      <td>393.57</td>\n      <td>NaN</td>\n      <td>NaN</td>\n    </tr>\n    <tr>\n      <th>2020-07-07</th>\n      <td>394.87</td>\n      <td>NaN</td>\n      <td>NaN</td>\n    </tr>\n    <tr>\n      <th>2020-07-08</th>\n      <td>408.64</td>\n      <td>NaN</td>\n      <td>NaN</td>\n    </tr>\n    <tr>\n      <th>2020-07-09</th>\n      <td>420.36</td>\n      <td>NaN</td>\n      <td>NaN</td>\n    </tr>\n    <tr>\n      <th>2020-07-10</th>\n      <td>419.17</td>\n      <td>NaN</td>\n      <td>NaN</td>\n    </tr>\n    <tr>\n      <th>...</th>\n      <td>...</td>\n      <td>...</td>\n      <td>...</td>\n    </tr>\n    <tr>\n      <th>2020-12-16</th>\n      <td>529.70</td>\n      <td>30.75</td>\n      <td>86.32</td>\n    </tr>\n    <tr>\n      <th>2020-12-17</th>\n      <td>533.65</td>\n      <td>30.89</td>\n      <td>86.04</td>\n    </tr>\n    <tr>\n      <th>2020-12-18</th>\n      <td>530.88</td>\n      <td>30.89</td>\n      <td>85.86</td>\n    </tr>\n    <tr>\n      <th>2020-12-21</th>\n      <td>533.29</td>\n      <td>30.02</td>\n      <td>84.83</td>\n    </tr>\n    <tr>\n      <th>2020-12-22</th>\n      <td>531.13</td>\n      <td>30.45</td>\n      <td>85.53</td>\n    </tr>\n  </tbody>\n</table>\n<p>122 rows × 3 columns</p>\n</div>"
     },
     "metadata": {},
     "execution_count": 45
    }
   ],
   "source": [
    "_prices"
   ]
  },
  {
   "cell_type": "code",
   "execution_count": null,
   "metadata": {},
   "outputs": [],
   "source": []
  }
 ]
}